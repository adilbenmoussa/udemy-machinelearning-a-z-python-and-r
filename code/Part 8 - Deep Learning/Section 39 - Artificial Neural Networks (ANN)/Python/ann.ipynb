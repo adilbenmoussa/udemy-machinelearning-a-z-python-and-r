{
 "metadata": {
  "language_info": {
   "codemirror_mode": {
    "name": "ipython",
    "version": 3
   },
   "file_extension": ".py",
   "mimetype": "text/x-python",
   "name": "python",
   "nbconvert_exporter": "python",
   "pygments_lexer": "ipython3",
   "version": "3.8.5-final"
  },
  "orig_nbformat": 2,
  "kernelspec": {
   "name": "python3",
   "display_name": "Python 3",
   "language": "python"
  }
 },
 "nbformat": 4,
 "nbformat_minor": 2,
 "cells": [
  {
   "cell_type": "code",
   "execution_count": 3,
   "metadata": {},
   "outputs": [
    {
     "output_type": "stream",
     "name": "stdout",
     "text": [
      "Collecting tensorflow\n",
      "  Downloading tensorflow-2.4.0-cp38-cp38-macosx_10_11_x86_64.whl (175.5 MB)\n",
      "\u001b[K     |████████████████████████████████| 175.5 MB 8.1 MB/s \n",
      "\u001b[?25hRequirement already satisfied: typing-extensions~=3.7.4 in /Users/adilbenmoussa/opt/anaconda3/lib/python3.8/site-packages (from tensorflow) (3.7.4.3)\n",
      "Collecting opt-einsum~=3.3.0\n",
      "  Downloading opt_einsum-3.3.0-py3-none-any.whl (65 kB)\n",
      "\u001b[K     |████████████████████████████████| 65 kB 7.8 MB/s \n",
      "\u001b[?25hRequirement already satisfied: numpy~=1.19.2 in /Users/adilbenmoussa/opt/anaconda3/lib/python3.8/site-packages (from tensorflow) (1.19.2)\n",
      "Collecting protobuf>=3.9.2\n",
      "  Downloading protobuf-3.14.0-cp38-cp38-macosx_10_9_x86_64.whl (1.0 MB)\n",
      "\u001b[K     |████████████████████████████████| 1.0 MB 11.4 MB/s \n",
      "\u001b[?25hCollecting termcolor~=1.1.0\n",
      "  Downloading termcolor-1.1.0.tar.gz (3.9 kB)\n",
      "Requirement already satisfied: wheel~=0.35 in /Users/adilbenmoussa/opt/anaconda3/lib/python3.8/site-packages (from tensorflow) (0.35.1)\n",
      "Collecting wrapt~=1.12.1\n",
      "  Downloading wrapt-1.12.1.tar.gz (27 kB)\n",
      "Collecting tensorboard~=2.4\n",
      "  Downloading tensorboard-2.4.1-py3-none-any.whl (10.6 MB)\n",
      "\u001b[K     |████████████████████████████████| 10.6 MB 12.5 MB/s \n",
      "\u001b[?25hCollecting keras-preprocessing~=1.1.2\n",
      "  Downloading Keras_Preprocessing-1.1.2-py2.py3-none-any.whl (42 kB)\n",
      "\u001b[K     |████████████████████████████████| 42 kB 3.4 MB/s \n",
      "\u001b[?25hCollecting absl-py~=0.10\n",
      "  Downloading absl_py-0.11.0-py3-none-any.whl (127 kB)\n",
      "\u001b[K     |████████████████████████████████| 127 kB 11.9 MB/s \n",
      "\u001b[?25hCollecting tensorflow-estimator<2.5.0,>=2.4.0rc0\n",
      "  Downloading tensorflow_estimator-2.4.0-py2.py3-none-any.whl (462 kB)\n",
      "\u001b[K     |████████████████████████████████| 462 kB 11.9 MB/s \n",
      "\u001b[?25hRequirement already satisfied: six~=1.15.0 in /Users/adilbenmoussa/opt/anaconda3/lib/python3.8/site-packages (from tensorflow) (1.15.0)\n",
      "Collecting astunparse~=1.6.3\n",
      "  Downloading astunparse-1.6.3-py2.py3-none-any.whl (12 kB)\n",
      "Collecting grpcio~=1.32.0\n",
      "  Downloading grpcio-1.32.0-cp38-cp38-macosx_10_9_x86_64.whl (3.3 MB)\n",
      "\u001b[K     |████████████████████████████████| 3.3 MB 4.0 MB/s \n",
      "\u001b[?25hCollecting flatbuffers~=1.12.0\n",
      "  Downloading flatbuffers-1.12-py2.py3-none-any.whl (15 kB)\n",
      "Collecting gast==0.3.3\n",
      "  Downloading gast-0.3.3-py2.py3-none-any.whl (9.7 kB)\n",
      "Requirement already satisfied: h5py~=2.10.0 in /Users/adilbenmoussa/opt/anaconda3/lib/python3.8/site-packages (from tensorflow) (2.10.0)\n",
      "Collecting google-pasta~=0.2\n",
      "  Downloading google_pasta-0.2.0-py3-none-any.whl (57 kB)\n",
      "\u001b[K     |████████████████████████████████| 57 kB 9.4 MB/s \n",
      "\u001b[?25hCollecting markdown>=2.6.8\n",
      "  Downloading Markdown-3.3.3-py3-none-any.whl (96 kB)\n",
      "\u001b[K     |████████████████████████████████| 96 kB 8.7 MB/s \n",
      "\u001b[?25hCollecting google-auth-oauthlib<0.5,>=0.4.1\n",
      "  Downloading google_auth_oauthlib-0.4.2-py2.py3-none-any.whl (18 kB)\n",
      "Requirement already satisfied: werkzeug>=0.11.15 in /Users/adilbenmoussa/opt/anaconda3/lib/python3.8/site-packages (from tensorboard~=2.4->tensorflow) (1.0.1)\n",
      "Requirement already satisfied: setuptools>=41.0.0 in /Users/adilbenmoussa/opt/anaconda3/lib/python3.8/site-packages (from tensorboard~=2.4->tensorflow) (50.3.1.post20201107)\n",
      "Collecting google-auth<2,>=1.6.3\n",
      "  Downloading google_auth-1.24.0-py2.py3-none-any.whl (114 kB)\n",
      "\u001b[K     |████████████████████████████████| 114 kB 11.5 MB/s \n",
      "\u001b[?25hCollecting tensorboard-plugin-wit>=1.6.0\n",
      "  Downloading tensorboard_plugin_wit-1.7.0-py3-none-any.whl (779 kB)\n",
      "\u001b[K     |████████████████████████████████| 779 kB 12.4 MB/s \n",
      "\u001b[?25hRequirement already satisfied: requests<3,>=2.21.0 in /Users/adilbenmoussa/opt/anaconda3/lib/python3.8/site-packages (from tensorboard~=2.4->tensorflow) (2.24.0)\n",
      "Collecting requests-oauthlib>=0.7.0\n",
      "  Downloading requests_oauthlib-1.3.0-py2.py3-none-any.whl (23 kB)\n",
      "Collecting cachetools<5.0,>=2.0.0\n",
      "  Downloading cachetools-4.2.0-py3-none-any.whl (12 kB)\n",
      "Collecting pyasn1-modules>=0.2.1\n",
      "  Downloading pyasn1_modules-0.2.8-py2.py3-none-any.whl (155 kB)\n",
      "\u001b[K     |████████████████████████████████| 155 kB 11.6 MB/s \n",
      "\u001b[?25hCollecting rsa<5,>=3.1.4; python_version >= \"3.6\"\n",
      "  Downloading rsa-4.7-py3-none-any.whl (34 kB)\n",
      "Requirement already satisfied: urllib3!=1.25.0,!=1.25.1,<1.26,>=1.21.1 in /Users/adilbenmoussa/opt/anaconda3/lib/python3.8/site-packages (from requests<3,>=2.21.0->tensorboard~=2.4->tensorflow) (1.25.11)\n",
      "Requirement already satisfied: chardet<4,>=3.0.2 in /Users/adilbenmoussa/opt/anaconda3/lib/python3.8/site-packages (from requests<3,>=2.21.0->tensorboard~=2.4->tensorflow) (3.0.4)\n",
      "Requirement already satisfied: certifi>=2017.4.17 in /Users/adilbenmoussa/opt/anaconda3/lib/python3.8/site-packages (from requests<3,>=2.21.0->tensorboard~=2.4->tensorflow) (2020.6.20)\n",
      "Requirement already satisfied: idna<3,>=2.5 in /Users/adilbenmoussa/opt/anaconda3/lib/python3.8/site-packages (from requests<3,>=2.21.0->tensorboard~=2.4->tensorflow) (2.10)\n",
      "Collecting oauthlib>=3.0.0\n",
      "  Downloading oauthlib-3.1.0-py2.py3-none-any.whl (147 kB)\n",
      "\u001b[K     |████████████████████████████████| 147 kB 11.3 MB/s \n",
      "\u001b[?25hCollecting pyasn1<0.5.0,>=0.4.6\n",
      "  Downloading pyasn1-0.4.8-py2.py3-none-any.whl (77 kB)\n",
      "\u001b[K     |████████████████████████████████| 77 kB 9.4 MB/s \n",
      "\u001b[?25hBuilding wheels for collected packages: termcolor, wrapt\n",
      "  Building wheel for termcolor (setup.py) ... \u001b[?25ldone\n",
      "\u001b[?25h  Created wheel for termcolor: filename=termcolor-1.1.0-py3-none-any.whl size=4830 sha256=1095f9cf3cabc0d7b32981e6f31f73b6f761904aaeb51a25c36038aa1dcdbefd\n",
      "  Stored in directory: /Users/adilbenmoussa/Library/Caches/pip/wheels/a0/16/9c/5473df82468f958445479c59e784896fa24f4a5fc024b0f501\n",
      "  Building wheel for wrapt (setup.py) ... \u001b[?25ldone\n",
      "\u001b[?25h  Created wheel for wrapt: filename=wrapt-1.12.1-cp38-cp38-macosx_10_9_x86_64.whl size=32727 sha256=02cf062a634de0ee4a636c848a6dce6d398ff1e16d1d87d59d07ec1cf80aa916\n",
      "  Stored in directory: /Users/adilbenmoussa/Library/Caches/pip/wheels/5f/fd/9e/b6cf5890494cb8ef0b5eaff72e5d55a70fb56316007d6dfe73\n",
      "Successfully built termcolor wrapt\n",
      "Installing collected packages: opt-einsum, protobuf, termcolor, wrapt, markdown, absl-py, cachetools, pyasn1, pyasn1-modules, rsa, google-auth, oauthlib, requests-oauthlib, google-auth-oauthlib, grpcio, tensorboard-plugin-wit, tensorboard, keras-preprocessing, tensorflow-estimator, astunparse, flatbuffers, gast, google-pasta, tensorflow\n",
      "  Attempting uninstall: wrapt\n",
      "    Found existing installation: wrapt 1.11.2\n",
      "    Uninstalling wrapt-1.11.2:\n",
      "      Successfully uninstalled wrapt-1.11.2\n",
      "Successfully installed absl-py-0.11.0 astunparse-1.6.3 cachetools-4.2.0 flatbuffers-1.12 gast-0.3.3 google-auth-1.24.0 google-auth-oauthlib-0.4.2 google-pasta-0.2.0 grpcio-1.32.0 keras-preprocessing-1.1.2 markdown-3.3.3 oauthlib-3.1.0 opt-einsum-3.3.0 protobuf-3.14.0 pyasn1-0.4.8 pyasn1-modules-0.2.8 requests-oauthlib-1.3.0 rsa-4.7 tensorboard-2.4.1 tensorboard-plugin-wit-1.7.0 tensorflow-2.4.0 tensorflow-estimator-2.4.0 termcolor-1.1.0 wrapt-1.12.1\n"
     ]
    }
   ],
   "source": [
    "!pip install tensorflow"
   ]
  },
  {
   "cell_type": "code",
   "execution_count": 4,
   "metadata": {},
   "outputs": [],
   "source": [
    "import numpy as np\n",
    "import pandas as pd\n",
    "import tensorflow as tf"
   ]
  },
  {
   "cell_type": "code",
   "execution_count": 6,
   "metadata": {},
   "outputs": [
    {
     "output_type": "execute_result",
     "data": {
      "text/plain": [
       "'2.4.0'"
      ]
     },
     "metadata": {},
     "execution_count": 6
    }
   ],
   "source": [
    "tf.__version__"
   ]
  },
  {
   "cell_type": "code",
   "execution_count": 8,
   "metadata": {},
   "outputs": [],
   "source": [
    "dataset = pd.read_csv('Churn_Modelling.csv')\n",
    "X = dataset.iloc[:, 3:-1].values\n",
    "y = dataset.iloc[:, -1].values"
   ]
  },
  {
   "cell_type": "code",
   "execution_count": 34,
   "metadata": {},
   "outputs": [
    {
     "output_type": "stream",
     "name": "stdout",
     "text": [
      "[1 15634602 'Hargrave' 619 'France' 'Female' 42 2 0.0 1 1 1 101348.88 1]\n"
     ]
    }
   ],
   "source": [
    "print(dataset.values[0, :])"
   ]
  },
  {
   "cell_type": "code",
   "execution_count": 29,
   "metadata": {},
   "outputs": [
    {
     "output_type": "stream",
     "name": "stdout",
     "text": [
      "[[1.0 0.0 0.0 ... 1 1 101348.88]\n [0.0 0.0 1.0 ... 0 1 112542.58]\n [1.0 0.0 0.0 ... 1 0 113931.57]\n ...\n [1.0 0.0 0.0 ... 0 1 42085.58]\n [0.0 1.0 0.0 ... 1 0 92888.52]\n [1.0 0.0 0.0 ... 1 0 38190.78]]\n"
     ]
    }
   ],
   "source": [
    "print(X)"
   ]
  },
  {
   "cell_type": "code",
   "execution_count": 11,
   "metadata": {},
   "outputs": [
    {
     "output_type": "stream",
     "name": "stdout",
     "text": [
      "[1 0 1 ... 1 1 0]\n"
     ]
    }
   ],
   "source": [
    "print(y)"
   ]
  },
  {
   "cell_type": "code",
   "execution_count": 12,
   "metadata": {},
   "outputs": [],
   "source": [
    "# Encoding the Dependent Variable\n",
    "from sklearn.preprocessing import LabelEncoder\n",
    "le = LabelEncoder()\n",
    "X[:, 2] = le.fit_transform(X[:, 2])\n"
   ]
  },
  {
   "cell_type": "code",
   "execution_count": 17,
   "metadata": {},
   "outputs": [],
   "source": [
    "from sklearn.compose import ColumnTransformer\n",
    "from sklearn.preprocessing import OneHotEncoder\n",
    "ct = ColumnTransformer(transformers=[('encoder', OneHotEncoder(), [1])], remainder='passthrough')\n",
    "X = np.array(ct.fit_transform(X))\n",
    "\n"
   ]
  },
  {
   "cell_type": "code",
   "execution_count": 19,
   "metadata": {},
   "outputs": [],
   "source": [
    "from sklearn.model_selection import train_test_split\n",
    "X_train, X_test, y_train, y_test = train_test_split(X, y, test_size = 0.2, random_state = 1)\n"
   ]
  },
  {
   "cell_type": "code",
   "execution_count": 21,
   "metadata": {},
   "outputs": [],
   "source": [
    "from sklearn.preprocessing import StandardScaler\n",
    "sc = StandardScaler()\n",
    "X_train = sc.fit_transform(X_train)\n",
    "X_test = sc.transform(X_test)\n"
   ]
  },
  {
   "cell_type": "code",
   "execution_count": 24,
   "metadata": {},
   "outputs": [],
   "source": [
    "ann = tf.keras.models.Sequential()\n",
    "ann.add(tf.keras.layers.Dense(units= 6, activation= 'relu'))"
   ]
  },
  {
   "cell_type": "code",
   "execution_count": 25,
   "metadata": {},
   "outputs": [],
   "source": [
    "ann.add(tf.keras.layers.Dense(units= 6, activation= 'relu'))"
   ]
  },
  {
   "cell_type": "code",
   "execution_count": 26,
   "metadata": {},
   "outputs": [],
   "source": [
    "ann.add(tf.keras.layers.Dense(units= 1, activation= 'sigmoid'))"
   ]
  },
  {
   "cell_type": "code",
   "execution_count": 27,
   "metadata": {},
   "outputs": [],
   "source": [
    "ann.compile(optimizer= 'adam', loss= 'binary_crossentropy', metrics= ['accuracy'])"
   ]
  },
  {
   "cell_type": "code",
   "execution_count": 28,
   "metadata": {},
   "outputs": [
    {
     "output_type": "stream",
     "name": "stdout",
     "text": [
      "Epoch 1/100\n",
      "250/250 [==============================] - 1s 725us/step - loss: 0.8699 - accuracy: 0.4008\n",
      "Epoch 2/100\n",
      "250/250 [==============================] - 0s 659us/step - loss: 0.4902 - accuracy: 0.7991\n",
      "Epoch 3/100\n",
      "250/250 [==============================] - 0s 630us/step - loss: 0.4467 - accuracy: 0.7987\n",
      "Epoch 4/100\n",
      "250/250 [==============================] - 0s 647us/step - loss: 0.4255 - accuracy: 0.8117\n",
      "Epoch 5/100\n",
      "250/250 [==============================] - 0s 628us/step - loss: 0.4127 - accuracy: 0.8144\n",
      "Epoch 6/100\n",
      "250/250 [==============================] - 0s 641us/step - loss: 0.3972 - accuracy: 0.8253\n",
      "Epoch 7/100\n",
      "250/250 [==============================] - 0s 598us/step - loss: 0.3969 - accuracy: 0.8302\n",
      "Epoch 8/100\n",
      "250/250 [==============================] - 0s 590us/step - loss: 0.3849 - accuracy: 0.8320\n",
      "Epoch 9/100\n",
      "250/250 [==============================] - 0s 689us/step - loss: 0.3641 - accuracy: 0.8435\n",
      "Epoch 10/100\n",
      "250/250 [==============================] - 0s 594us/step - loss: 0.3573 - accuracy: 0.8485\n",
      "Epoch 11/100\n",
      "250/250 [==============================] - 0s 624us/step - loss: 0.3670 - accuracy: 0.8446\n",
      "Epoch 12/100\n",
      "250/250 [==============================] - 0s 615us/step - loss: 0.3565 - accuracy: 0.8551\n",
      "Epoch 13/100\n",
      "250/250 [==============================] - 0s 614us/step - loss: 0.3431 - accuracy: 0.8560\n",
      "Epoch 14/100\n",
      "250/250 [==============================] - 0s 547us/step - loss: 0.3593 - accuracy: 0.8485\n",
      "Epoch 15/100\n",
      "250/250 [==============================] - 0s 554us/step - loss: 0.3501 - accuracy: 0.8545\n",
      "Epoch 16/100\n",
      "250/250 [==============================] - 0s 550us/step - loss: 0.3511 - accuracy: 0.8545\n",
      "Epoch 17/100\n",
      "250/250 [==============================] - 0s 543us/step - loss: 0.3491 - accuracy: 0.8508\n",
      "Epoch 18/100\n",
      "250/250 [==============================] - 0s 559us/step - loss: 0.3417 - accuracy: 0.8607\n",
      "Epoch 19/100\n",
      "250/250 [==============================] - 0s 536us/step - loss: 0.3416 - accuracy: 0.8588\n",
      "Epoch 20/100\n",
      "250/250 [==============================] - 0s 545us/step - loss: 0.3351 - accuracy: 0.8620\n",
      "Epoch 21/100\n",
      "250/250 [==============================] - 0s 546us/step - loss: 0.3357 - accuracy: 0.8610\n",
      "Epoch 22/100\n",
      "250/250 [==============================] - 0s 551us/step - loss: 0.3458 - accuracy: 0.8585\n",
      "Epoch 23/100\n",
      "250/250 [==============================] - 0s 550us/step - loss: 0.3444 - accuracy: 0.8577\n",
      "Epoch 24/100\n",
      "250/250 [==============================] - 0s 631us/step - loss: 0.3409 - accuracy: 0.8602\n",
      "Epoch 25/100\n",
      "250/250 [==============================] - 0s 631us/step - loss: 0.3463 - accuracy: 0.8579\n",
      "Epoch 26/100\n",
      "250/250 [==============================] - 0s 552us/step - loss: 0.3371 - accuracy: 0.8572\n",
      "Epoch 27/100\n",
      "250/250 [==============================] - 0s 553us/step - loss: 0.3459 - accuracy: 0.8566\n",
      "Epoch 28/100\n",
      "250/250 [==============================] - 0s 557us/step - loss: 0.3595 - accuracy: 0.8507\n",
      "Epoch 29/100\n",
      "250/250 [==============================] - 0s 569us/step - loss: 0.3496 - accuracy: 0.8552\n",
      "Epoch 30/100\n",
      "250/250 [==============================] - 0s 561us/step - loss: 0.3451 - accuracy: 0.8578\n",
      "Epoch 31/100\n",
      "250/250 [==============================] - 0s 705us/step - loss: 0.3326 - accuracy: 0.8624\n",
      "Epoch 32/100\n",
      "250/250 [==============================] - 0s 548us/step - loss: 0.3448 - accuracy: 0.8574\n",
      "Epoch 33/100\n",
      "250/250 [==============================] - 0s 580us/step - loss: 0.3325 - accuracy: 0.8642\n",
      "Epoch 34/100\n",
      "250/250 [==============================] - 0s 623us/step - loss: 0.3337 - accuracy: 0.8637\n",
      "Epoch 35/100\n",
      "250/250 [==============================] - 0s 656us/step - loss: 0.3407 - accuracy: 0.8598\n",
      "Epoch 36/100\n",
      "250/250 [==============================] - 0s 637us/step - loss: 0.3423 - accuracy: 0.8582\n",
      "Epoch 37/100\n",
      "250/250 [==============================] - 0s 693us/step - loss: 0.3480 - accuracy: 0.8543\n",
      "Epoch 38/100\n",
      "250/250 [==============================] - 0s 670us/step - loss: 0.3346 - accuracy: 0.8655\n",
      "Epoch 39/100\n",
      "250/250 [==============================] - 0s 728us/step - loss: 0.3370 - accuracy: 0.8583\n",
      "Epoch 40/100\n",
      "250/250 [==============================] - 0s 672us/step - loss: 0.3413 - accuracy: 0.8611\n",
      "Epoch 41/100\n",
      "250/250 [==============================] - 0s 590us/step - loss: 0.3360 - accuracy: 0.8584\n",
      "Epoch 42/100\n",
      "250/250 [==============================] - 0s 602us/step - loss: 0.3334 - accuracy: 0.8673\n",
      "Epoch 43/100\n",
      "250/250 [==============================] - 0s 675us/step - loss: 0.3431 - accuracy: 0.8595\n",
      "Epoch 44/100\n",
      "250/250 [==============================] - 0s 678us/step - loss: 0.3309 - accuracy: 0.8648\n",
      "Epoch 45/100\n",
      "250/250 [==============================] - 0s 666us/step - loss: 0.3331 - accuracy: 0.8623\n",
      "Epoch 46/100\n",
      "250/250 [==============================] - 0s 653us/step - loss: 0.3402 - accuracy: 0.8581\n",
      "Epoch 47/100\n",
      "250/250 [==============================] - 0s 670us/step - loss: 0.3312 - accuracy: 0.8647\n",
      "Epoch 48/100\n",
      "250/250 [==============================] - 0s 693us/step - loss: 0.3369 - accuracy: 0.8614\n",
      "Epoch 49/100\n",
      "250/250 [==============================] - 0s 594us/step - loss: 0.3420 - accuracy: 0.8587\n",
      "Epoch 50/100\n",
      "250/250 [==============================] - 0s 613us/step - loss: 0.3301 - accuracy: 0.8640\n",
      "Epoch 51/100\n",
      "250/250 [==============================] - 0s 551us/step - loss: 0.3406 - accuracy: 0.8562\n",
      "Epoch 52/100\n",
      "250/250 [==============================] - 0s 613us/step - loss: 0.3321 - accuracy: 0.8640\n",
      "Epoch 53/100\n",
      "250/250 [==============================] - 0s 623us/step - loss: 0.3404 - accuracy: 0.8599\n",
      "Epoch 54/100\n",
      "250/250 [==============================] - 0s 658us/step - loss: 0.3313 - accuracy: 0.8630\n",
      "Epoch 55/100\n",
      "250/250 [==============================] - 0s 620us/step - loss: 0.3404 - accuracy: 0.8569\n",
      "Epoch 56/100\n",
      "250/250 [==============================] - 0s 661us/step - loss: 0.3458 - accuracy: 0.8533\n",
      "Epoch 57/100\n",
      "250/250 [==============================] - 0s 613us/step - loss: 0.3397 - accuracy: 0.8607\n",
      "Epoch 58/100\n",
      "250/250 [==============================] - 0s 649us/step - loss: 0.3307 - accuracy: 0.8631\n",
      "Epoch 59/100\n",
      "250/250 [==============================] - 0s 702us/step - loss: 0.3365 - accuracy: 0.8618\n",
      "Epoch 60/100\n",
      "250/250 [==============================] - 0s 631us/step - loss: 0.3405 - accuracy: 0.8567\n",
      "Epoch 61/100\n",
      "250/250 [==============================] - 0s 594us/step - loss: 0.3333 - accuracy: 0.8627\n",
      "Epoch 62/100\n",
      "250/250 [==============================] - 0s 609us/step - loss: 0.3375 - accuracy: 0.8626\n",
      "Epoch 63/100\n",
      "250/250 [==============================] - 0s 612us/step - loss: 0.3334 - accuracy: 0.8633\n",
      "Epoch 64/100\n",
      "250/250 [==============================] - 0s 616us/step - loss: 0.3337 - accuracy: 0.8631\n",
      "Epoch 65/100\n",
      "250/250 [==============================] - 0s 651us/step - loss: 0.3399 - accuracy: 0.8596\n",
      "Epoch 66/100\n",
      "250/250 [==============================] - 0s 673us/step - loss: 0.3407 - accuracy: 0.8563\n",
      "Epoch 67/100\n",
      "250/250 [==============================] - 0s 634us/step - loss: 0.3357 - accuracy: 0.8600\n",
      "Epoch 68/100\n",
      "250/250 [==============================] - 0s 556us/step - loss: 0.3298 - accuracy: 0.8638\n",
      "Epoch 69/100\n",
      "250/250 [==============================] - 0s 601us/step - loss: 0.3415 - accuracy: 0.8577\n",
      "Epoch 70/100\n",
      "250/250 [==============================] - 0s 600us/step - loss: 0.3468 - accuracy: 0.8523\n",
      "Epoch 71/100\n",
      "250/250 [==============================] - 0s 685us/step - loss: 0.3349 - accuracy: 0.8611\n",
      "Epoch 72/100\n",
      "250/250 [==============================] - 0s 569us/step - loss: 0.3363 - accuracy: 0.8587\n",
      "Epoch 73/100\n",
      "250/250 [==============================] - 0s 575us/step - loss: 0.3433 - accuracy: 0.8572\n",
      "Epoch 74/100\n",
      "250/250 [==============================] - 0s 599us/step - loss: 0.3396 - accuracy: 0.8586\n",
      "Epoch 75/100\n",
      "250/250 [==============================] - 0s 581us/step - loss: 0.3248 - accuracy: 0.8632\n",
      "Epoch 76/100\n",
      "250/250 [==============================] - 0s 559us/step - loss: 0.3249 - accuracy: 0.8684\n",
      "Epoch 77/100\n",
      "250/250 [==============================] - 0s 661us/step - loss: 0.3435 - accuracy: 0.8545\n",
      "Epoch 78/100\n",
      "250/250 [==============================] - 0s 575us/step - loss: 0.3476 - accuracy: 0.8490\n",
      "Epoch 79/100\n",
      "250/250 [==============================] - 0s 580us/step - loss: 0.3458 - accuracy: 0.8543\n",
      "Epoch 80/100\n",
      "250/250 [==============================] - 0s 544us/step - loss: 0.3462 - accuracy: 0.8573\n",
      "Epoch 81/100\n",
      "250/250 [==============================] - 0s 547us/step - loss: 0.3401 - accuracy: 0.8584\n",
      "Epoch 82/100\n",
      "250/250 [==============================] - 0s 538us/step - loss: 0.3420 - accuracy: 0.8604\n",
      "Epoch 83/100\n",
      "250/250 [==============================] - 0s 541us/step - loss: 0.3260 - accuracy: 0.8621\n",
      "Epoch 84/100\n",
      "250/250 [==============================] - 0s 543us/step - loss: 0.3430 - accuracy: 0.8555\n",
      "Epoch 85/100\n",
      "250/250 [==============================] - 0s 538us/step - loss: 0.3324 - accuracy: 0.8650\n",
      "Epoch 86/100\n",
      "250/250 [==============================] - 0s 551us/step - loss: 0.3306 - accuracy: 0.8637\n",
      "Epoch 87/100\n",
      "250/250 [==============================] - 0s 538us/step - loss: 0.3363 - accuracy: 0.8610\n",
      "Epoch 88/100\n",
      "250/250 [==============================] - 0s 541us/step - loss: 0.3391 - accuracy: 0.8599\n",
      "Epoch 89/100\n",
      "250/250 [==============================] - 0s 532us/step - loss: 0.3393 - accuracy: 0.8597\n",
      "Epoch 90/100\n",
      "250/250 [==============================] - 0s 544us/step - loss: 0.3331 - accuracy: 0.8625\n",
      "Epoch 91/100\n",
      "250/250 [==============================] - 0s 545us/step - loss: 0.3334 - accuracy: 0.8643\n",
      "Epoch 92/100\n",
      "250/250 [==============================] - 0s 616us/step - loss: 0.3338 - accuracy: 0.8612\n",
      "Epoch 93/100\n",
      "250/250 [==============================] - 0s 565us/step - loss: 0.3307 - accuracy: 0.8631\n",
      "Epoch 94/100\n",
      "250/250 [==============================] - 0s 554us/step - loss: 0.3315 - accuracy: 0.8629\n",
      "Epoch 95/100\n",
      "250/250 [==============================] - 0s 556us/step - loss: 0.3324 - accuracy: 0.8618\n",
      "Epoch 96/100\n",
      "250/250 [==============================] - 0s 569us/step - loss: 0.3421 - accuracy: 0.8572\n",
      "Epoch 97/100\n",
      "250/250 [==============================] - 0s 583us/step - loss: 0.3343 - accuracy: 0.8594\n",
      "Epoch 98/100\n",
      "250/250 [==============================] - 0s 546us/step - loss: 0.3349 - accuracy: 0.8638\n",
      "Epoch 99/100\n",
      "250/250 [==============================] - 0s 575us/step - loss: 0.3279 - accuracy: 0.8647\n",
      "Epoch 100/100\n",
      "250/250 [==============================] - 0s 545us/step - loss: 0.3391 - accuracy: 0.8601\n"
     ]
    },
    {
     "output_type": "execute_result",
     "data": {
      "text/plain": [
       "<tensorflow.python.keras.callbacks.History at 0x7fef0f5eb7f0>"
      ]
     },
     "metadata": {},
     "execution_count": 28
    }
   ],
   "source": [
    "ann.fit(X_train, y_train, batch_size= 32, epochs= 100)"
   ]
  },
  {
   "cell_type": "code",
   "execution_count": 49,
   "metadata": {},
   "outputs": [],
   "source": [
    "# new_X = [[1.0 ,0.0 ,0.0, 600, 0, 40, ]]\n",
    "new_X = [[1.0, 0.0, 0.0, 600, 1.0, 40, 3, 60000.00, 2, 1, 1, 50000.00]]"
   ]
  },
  {
   "cell_type": "code",
   "execution_count": 50,
   "metadata": {},
   "outputs": [
    {
     "output_type": "stream",
     "name": "stdout",
     "text": [
      "[[1.0, 0.0, 0.0, 600, 1.0, 40, 3, 60000.0, 2, 1, 1, 50000.0]]\n"
     ]
    }
   ],
   "source": [
    "print(new_X)"
   ]
  },
  {
   "cell_type": "code",
   "execution_count": 51,
   "metadata": {},
   "outputs": [
    {
     "output_type": "stream",
     "name": "stdout",
     "text": [
      "[[ 1.00150113 -0.58312392 -0.57273139 -0.52046273  0.91509065  0.10629772\n  -0.70174202 -0.26396987  0.80225696  0.64376017  0.97725852 -0.87097985]]\n"
     ]
    }
   ],
   "source": [
    "print(sc.transform(new_X))"
   ]
  },
  {
   "cell_type": "code",
   "execution_count": 52,
   "metadata": {},
   "outputs": [],
   "source": [
    "new_X = sc.transform(new_X)"
   ]
  },
  {
   "cell_type": "code",
   "execution_count": 53,
   "metadata": {},
   "outputs": [],
   "source": [
    "y_pred = ann.predict(new_X)"
   ]
  },
  {
   "cell_type": "code",
   "execution_count": 55,
   "metadata": {},
   "outputs": [
    {
     "output_type": "stream",
     "name": "stdout",
     "text": [
      "[[False]]\n"
     ]
    }
   ],
   "source": [
    "print(y_pred > 0.5)"
   ]
  },
  {
   "cell_type": "code",
   "execution_count": 57,
   "metadata": {},
   "outputs": [
    {
     "output_type": "stream",
     "name": "stdout",
     "text": [
      "[[0 0]\n [0 0]\n [0 0]\n ...\n [0 0]\n [0 0]\n [0 0]]\n"
     ]
    }
   ],
   "source": [
    "y_pred = ann.predict(X_test ) > 0.5\n",
    "print(np.concatenate((y_pred.reshape(len(y_pred),1), y_test.reshape(len(y_test),1)),1))"
   ]
  },
  {
   "cell_type": "code",
   "execution_count": 58,
   "metadata": {},
   "outputs": [
    {
     "output_type": "stream",
     "name": "stdout",
     "text": [
      "[[1540   45]\n [ 233  182]]\n"
     ]
    },
    {
     "output_type": "execute_result",
     "data": {
      "text/plain": [
       "0.861"
      ]
     },
     "metadata": {},
     "execution_count": 58
    }
   ],
   "source": [
    "from sklearn.metrics import confusion_matrix, accuracy_score\n",
    "cm = confusion_matrix(y_test, y_pred)\n",
    "print(cm)\n",
    "accuracy_score(y_test, y_pred)"
   ]
  },
  {
   "cell_type": "code",
   "execution_count": null,
   "metadata": {},
   "outputs": [],
   "source": []
  }
 ]
}
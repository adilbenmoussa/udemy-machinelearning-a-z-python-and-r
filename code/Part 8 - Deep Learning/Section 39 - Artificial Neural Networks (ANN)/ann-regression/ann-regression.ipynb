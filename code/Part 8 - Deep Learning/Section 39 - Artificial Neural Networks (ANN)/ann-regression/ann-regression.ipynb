{
 "metadata": {
  "language_info": {
   "codemirror_mode": {
    "name": "ipython",
    "version": 3
   },
   "file_extension": ".py",
   "mimetype": "text/x-python",
   "name": "python",
   "nbconvert_exporter": "python",
   "pygments_lexer": "ipython3",
   "version": "3.8.5-final"
  },
  "orig_nbformat": 2,
  "kernelspec": {
   "name": "python3",
   "display_name": "Python 3",
   "language": "python"
  }
 },
 "nbformat": 4,
 "nbformat_minor": 2,
 "cells": [
  {
   "cell_type": "code",
   "execution_count": null,
   "metadata": {},
   "outputs": [],
   "source": [
    "!pip install tensorflow"
   ]
  },
  {
   "cell_type": "code",
   "execution_count": 1,
   "metadata": {},
   "outputs": [],
   "source": [
    "import numpy as np\n",
    "import pandas as pd\n",
    "import tensorflow as tf"
   ]
  },
  {
   "cell_type": "code",
   "execution_count": 2,
   "metadata": {},
   "outputs": [
    {
     "output_type": "execute_result",
     "data": {
      "text/plain": [
       "'2.4.0'"
      ]
     },
     "metadata": {},
     "execution_count": 2
    }
   ],
   "source": [
    "tf.__version__"
   ]
  },
  {
   "cell_type": "code",
   "execution_count": 6,
   "metadata": {},
   "outputs": [],
   "source": [
    "dataset = pd.read_excel('Folds5x2_pp.xlsx')\n",
    "X = dataset.iloc[:, :-1].values\n",
    "y = dataset.iloc[:, -1].values"
   ]
  },
  {
   "cell_type": "code",
   "execution_count": 8,
   "metadata": {},
   "outputs": [
    {
     "output_type": "execute_result",
     "data": {
      "text/plain": [
       "array([[  14.96,   41.76, 1024.07,   73.17],\n",
       "       [  25.18,   62.96, 1020.04,   59.08],\n",
       "       [   5.11,   39.4 , 1012.16,   92.14],\n",
       "       ...,\n",
       "       [  31.32,   74.33, 1012.92,   36.48],\n",
       "       [  24.48,   69.45, 1013.86,   62.39],\n",
       "       [  21.6 ,   62.52, 1017.23,   67.87]])"
      ]
     },
     "metadata": {},
     "execution_count": 8
    }
   ],
   "source": [
    "X"
   ]
  },
  {
   "cell_type": "code",
   "execution_count": 9,
   "metadata": {},
   "outputs": [],
   "source": [
    "from sklearn.model_selection import train_test_split\n",
    "X_train, X_test, y_train, y_test = train_test_split(X, y, test_size = 0.2, random_state = 0)"
   ]
  },
  {
   "cell_type": "code",
   "execution_count": 11,
   "metadata": {},
   "outputs": [],
   "source": [
    "ann = tf.keras.models.Sequential()\n"
   ]
  },
  {
   "cell_type": "code",
   "execution_count": 13,
   "metadata": {},
   "outputs": [],
   "source": [
    "ann.add(tf.keras.layers.Dense(units=6, activation='relu'))\n",
    "ann.add(tf.keras.layers.Dense(units=6, activation='relu'))\n",
    "ann.add(tf.keras.layers.Dense(units=1))"
   ]
  },
  {
   "cell_type": "code",
   "execution_count": 14,
   "metadata": {},
   "outputs": [],
   "source": [
    "ann.compile(optimizer = 'adam', loss = 'mean_squared_error')"
   ]
  },
  {
   "cell_type": "code",
   "execution_count": 15,
   "metadata": {},
   "outputs": [
    {
     "output_type": "stream",
     "name": "stdout",
     "text": [
      "Epoch 1/100\n",
      "240/240 [==============================] - 0s 538us/step - loss: 58618.4049\n",
      "Epoch 2/100\n",
      "240/240 [==============================] - 0s 577us/step - loss: 450.0944\n",
      "Epoch 3/100\n",
      "240/240 [==============================] - 0s 588us/step - loss: 432.7378\n",
      "Epoch 4/100\n",
      "240/240 [==============================] - 0s 599us/step - loss: 412.8443\n",
      "Epoch 5/100\n",
      "240/240 [==============================] - 0s 518us/step - loss: 397.4761\n",
      "Epoch 6/100\n",
      "240/240 [==============================] - 0s 526us/step - loss: 376.7234\n",
      "Epoch 7/100\n",
      "240/240 [==============================] - 0s 514us/step - loss: 343.1128\n",
      "Epoch 8/100\n",
      "240/240 [==============================] - 0s 531us/step - loss: 320.0422\n",
      "Epoch 9/100\n",
      "240/240 [==============================] - 0s 512us/step - loss: 293.0445\n",
      "Epoch 10/100\n",
      "240/240 [==============================] - 0s 521us/step - loss: 263.7647\n",
      "Epoch 11/100\n",
      "240/240 [==============================] - 0s 556us/step - loss: 237.8282\n",
      "Epoch 12/100\n",
      "240/240 [==============================] - 0s 581us/step - loss: 206.2630\n",
      "Epoch 13/100\n",
      "240/240 [==============================] - 0s 527us/step - loss: 182.8597\n",
      "Epoch 14/100\n",
      "240/240 [==============================] - 0s 525us/step - loss: 153.5048\n",
      "Epoch 15/100\n",
      "240/240 [==============================] - 0s 537us/step - loss: 129.9143\n",
      "Epoch 16/100\n",
      "240/240 [==============================] - 0s 517us/step - loss: 108.4462\n",
      "Epoch 17/100\n",
      "240/240 [==============================] - 0s 520us/step - loss: 90.3090\n",
      "Epoch 18/100\n",
      "240/240 [==============================] - 0s 513us/step - loss: 73.2606\n",
      "Epoch 19/100\n",
      "240/240 [==============================] - 0s 527us/step - loss: 59.6089\n",
      "Epoch 20/100\n",
      "240/240 [==============================] - 0s 529us/step - loss: 48.4306\n",
      "Epoch 21/100\n",
      "240/240 [==============================] - 0s 521us/step - loss: 42.5906\n",
      "Epoch 22/100\n",
      "240/240 [==============================] - 0s 523us/step - loss: 35.4583\n",
      "Epoch 23/100\n",
      "240/240 [==============================] - 0s 520us/step - loss: 32.0644\n",
      "Epoch 24/100\n",
      "240/240 [==============================] - 0s 547us/step - loss: 31.4413\n",
      "Epoch 25/100\n",
      "240/240 [==============================] - 0s 540us/step - loss: 29.0083\n",
      "Epoch 26/100\n",
      "240/240 [==============================] - 0s 596us/step - loss: 27.7527\n",
      "Epoch 27/100\n",
      "240/240 [==============================] - 0s 526us/step - loss: 28.2169\n",
      "Epoch 28/100\n",
      "240/240 [==============================] - 0s 535us/step - loss: 26.7510\n",
      "Epoch 29/100\n",
      "240/240 [==============================] - 0s 571us/step - loss: 25.4723\n",
      "Epoch 30/100\n",
      "240/240 [==============================] - 0s 546us/step - loss: 27.3382\n",
      "Epoch 31/100\n",
      "240/240 [==============================] - 0s 530us/step - loss: 27.4151\n",
      "Epoch 32/100\n",
      "240/240 [==============================] - 0s 535us/step - loss: 26.9718\n",
      "Epoch 33/100\n",
      "240/240 [==============================] - 0s 530us/step - loss: 26.6664\n",
      "Epoch 34/100\n",
      "240/240 [==============================] - 0s 533us/step - loss: 27.1488\n",
      "Epoch 35/100\n",
      "240/240 [==============================] - 0s 602us/step - loss: 26.2355\n",
      "Epoch 36/100\n",
      "240/240 [==============================] - 0s 550us/step - loss: 26.8654\n",
      "Epoch 37/100\n",
      "240/240 [==============================] - 0s 553us/step - loss: 26.3978\n",
      "Epoch 38/100\n",
      "240/240 [==============================] - 0s 571us/step - loss: 26.2571\n",
      "Epoch 39/100\n",
      "240/240 [==============================] - 0s 592us/step - loss: 26.4062\n",
      "Epoch 40/100\n",
      "240/240 [==============================] - 0s 601us/step - loss: 26.6286\n",
      "Epoch 41/100\n",
      "240/240 [==============================] - 0s 517us/step - loss: 26.0823\n",
      "Epoch 42/100\n",
      "240/240 [==============================] - 0s 542us/step - loss: 27.2664\n",
      "Epoch 43/100\n",
      "240/240 [==============================] - 0s 533us/step - loss: 26.3255\n",
      "Epoch 44/100\n",
      "240/240 [==============================] - 0s 532us/step - loss: 26.6923\n",
      "Epoch 45/100\n",
      "240/240 [==============================] - 0s 574us/step - loss: 27.5680\n",
      "Epoch 46/100\n",
      "240/240 [==============================] - 0s 540us/step - loss: 26.6560\n",
      "Epoch 47/100\n",
      "240/240 [==============================] - 0s 569us/step - loss: 26.6228\n",
      "Epoch 48/100\n",
      "240/240 [==============================] - 0s 585us/step - loss: 27.3352\n",
      "Epoch 49/100\n",
      "240/240 [==============================] - 0s 580us/step - loss: 27.9139\n",
      "Epoch 50/100\n",
      "240/240 [==============================] - 0s 584us/step - loss: 26.4727\n",
      "Epoch 51/100\n",
      "240/240 [==============================] - 0s 588us/step - loss: 26.5410\n",
      "Epoch 52/100\n",
      "240/240 [==============================] - 0s 565us/step - loss: 26.7764\n",
      "Epoch 53/100\n",
      "240/240 [==============================] - 0s 597us/step - loss: 26.2908\n",
      "Epoch 54/100\n",
      "240/240 [==============================] - 0s 597us/step - loss: 25.3858\n",
      "Epoch 55/100\n",
      "240/240 [==============================] - 0s 533us/step - loss: 26.2372\n",
      "Epoch 56/100\n",
      "240/240 [==============================] - 0s 469us/step - loss: 27.5581\n",
      "Epoch 57/100\n",
      "240/240 [==============================] - 0s 520us/step - loss: 26.7250\n",
      "Epoch 58/100\n",
      "240/240 [==============================] - 0s 446us/step - loss: 26.3969\n",
      "Epoch 59/100\n",
      "240/240 [==============================] - 0s 554us/step - loss: 27.2001\n",
      "Epoch 60/100\n",
      "240/240 [==============================] - 0s 501us/step - loss: 26.2636\n",
      "Epoch 61/100\n",
      "240/240 [==============================] - 0s 505us/step - loss: 26.2001\n",
      "Epoch 62/100\n",
      "240/240 [==============================] - 0s 502us/step - loss: 27.0907\n",
      "Epoch 63/100\n",
      "240/240 [==============================] - 0s 525us/step - loss: 26.5520\n",
      "Epoch 64/100\n",
      "240/240 [==============================] - 0s 500us/step - loss: 27.2550\n",
      "Epoch 65/100\n",
      "240/240 [==============================] - 0s 509us/step - loss: 28.0777\n",
      "Epoch 66/100\n",
      "240/240 [==============================] - 0s 504us/step - loss: 27.0265\n",
      "Epoch 67/100\n",
      "240/240 [==============================] - 0s 511us/step - loss: 26.6772\n",
      "Epoch 68/100\n",
      "240/240 [==============================] - 0s 503us/step - loss: 25.4438\n",
      "Epoch 69/100\n",
      "240/240 [==============================] - 0s 565us/step - loss: 26.1310\n",
      "Epoch 70/100\n",
      "240/240 [==============================] - 0s 493us/step - loss: 27.1448\n",
      "Epoch 71/100\n",
      "240/240 [==============================] - 0s 541us/step - loss: 27.0897\n",
      "Epoch 72/100\n",
      "240/240 [==============================] - 0s 512us/step - loss: 27.1291\n",
      "Epoch 73/100\n",
      "240/240 [==============================] - 0s 515us/step - loss: 29.0894\n",
      "Epoch 74/100\n",
      "240/240 [==============================] - 0s 449us/step - loss: 26.2571\n",
      "Epoch 75/100\n",
      "240/240 [==============================] - 0s 452us/step - loss: 26.6764\n",
      "Epoch 76/100\n",
      "240/240 [==============================] - 0s 424us/step - loss: 26.2822\n",
      "Epoch 77/100\n",
      "240/240 [==============================] - 0s 427us/step - loss: 26.6495\n",
      "Epoch 78/100\n",
      "240/240 [==============================] - 0s 437us/step - loss: 25.6882\n",
      "Epoch 79/100\n",
      "240/240 [==============================] - 0s 569us/step - loss: 27.4383\n",
      "Epoch 80/100\n",
      "240/240 [==============================] - 0s 466us/step - loss: 27.2965\n",
      "Epoch 81/100\n",
      "240/240 [==============================] - 0s 461us/step - loss: 28.3357\n",
      "Epoch 82/100\n",
      "240/240 [==============================] - 0s 503us/step - loss: 25.7432\n",
      "Epoch 83/100\n",
      "240/240 [==============================] - 0s 442us/step - loss: 26.5104\n",
      "Epoch 84/100\n",
      "240/240 [==============================] - 0s 444us/step - loss: 25.6990\n",
      "Epoch 85/100\n",
      "240/240 [==============================] - 0s 440us/step - loss: 26.0806\n",
      "Epoch 86/100\n",
      "240/240 [==============================] - 0s 536us/step - loss: 26.8336\n",
      "Epoch 87/100\n",
      "240/240 [==============================] - 0s 522us/step - loss: 25.9497\n",
      "Epoch 88/100\n",
      "240/240 [==============================] - 0s 430us/step - loss: 25.7235\n",
      "Epoch 89/100\n",
      "240/240 [==============================] - 0s 449us/step - loss: 27.1174\n",
      "Epoch 90/100\n",
      "240/240 [==============================] - 0s 438us/step - loss: 25.9973\n",
      "Epoch 91/100\n",
      "240/240 [==============================] - 0s 437us/step - loss: 26.6673\n",
      "Epoch 92/100\n",
      "240/240 [==============================] - 0s 416us/step - loss: 25.9329\n",
      "Epoch 93/100\n",
      "240/240 [==============================] - 0s 407us/step - loss: 26.7105\n",
      "Epoch 94/100\n",
      "240/240 [==============================] - 0s 409us/step - loss: 26.2735\n",
      "Epoch 95/100\n",
      "240/240 [==============================] - 0s 417us/step - loss: 26.8737\n",
      "Epoch 96/100\n",
      "240/240 [==============================] - 0s 418us/step - loss: 26.9858\n",
      "Epoch 97/100\n",
      "240/240 [==============================] - 0s 408us/step - loss: 26.7571\n",
      "Epoch 98/100\n",
      "240/240 [==============================] - 0s 476us/step - loss: 28.6860\n",
      "Epoch 99/100\n",
      "240/240 [==============================] - 0s 424us/step - loss: 27.4714\n",
      "Epoch 100/100\n",
      "240/240 [==============================] - 0s 473us/step - loss: 27.3364\n"
     ]
    },
    {
     "output_type": "execute_result",
     "data": {
      "text/plain": [
       "<tensorflow.python.keras.callbacks.History at 0x7f87af21d7f0>"
      ]
     },
     "metadata": {},
     "execution_count": 15
    }
   ],
   "source": [
    "ann.fit(X_train, y_train, batch_size = 32, epochs = 100)"
   ]
  },
  {
   "cell_type": "code",
   "execution_count": 16,
   "metadata": {},
   "outputs": [
    {
     "output_type": "stream",
     "name": "stdout",
     "text": [
      "[[432.96 431.23]\n [464.04 460.01]\n [467.54 461.14]\n ...\n [474.81 473.26]\n [441.44 438.  ]\n [460.73 463.28]]\n"
     ]
    }
   ],
   "source": [
    "y_pred = ann.predict(X_test)\n",
    "np.set_printoptions(precision=2)\n",
    "print(np.concatenate((y_pred.reshape(len(y_pred),1), y_test.reshape(len(y_test),1)),1))"
   ]
  },
  {
   "cell_type": "code",
   "execution_count": null,
   "metadata": {},
   "outputs": [],
   "source": []
  }
 ]
}
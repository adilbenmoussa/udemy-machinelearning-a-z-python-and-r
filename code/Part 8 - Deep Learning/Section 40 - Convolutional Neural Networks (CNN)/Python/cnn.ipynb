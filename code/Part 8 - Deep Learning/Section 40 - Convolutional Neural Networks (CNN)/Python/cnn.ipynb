{
 "metadata": {
  "language_info": {
   "codemirror_mode": {
    "name": "ipython",
    "version": 3
   },
   "file_extension": ".py",
   "mimetype": "text/x-python",
   "name": "python",
   "nbconvert_exporter": "python",
   "pygments_lexer": "ipython3",
   "version": "3.8.5-final"
  },
  "orig_nbformat": 2,
  "kernelspec": {
   "name": "python3",
   "display_name": "Python 3",
   "language": "python"
  }
 },
 "nbformat": 4,
 "nbformat_minor": 2,
 "cells": [
  {
   "cell_type": "code",
   "execution_count": 5,
   "metadata": {},
   "outputs": [
    {
     "output_type": "stream",
     "name": "stdout",
     "text": [
      "Collecting keras\n",
      "  Downloading Keras-2.4.3-py2.py3-none-any.whl (36 kB)\n",
      "Requirement already satisfied: scipy>=0.14 in /Users/adilbenmoussa/opt/anaconda3/lib/python3.8/site-packages (from keras) (1.5.2)\n",
      "Requirement already satisfied: numpy>=1.9.1 in /Users/adilbenmoussa/opt/anaconda3/lib/python3.8/site-packages (from keras) (1.19.2)\n",
      "Requirement already satisfied: pyyaml in /Users/adilbenmoussa/opt/anaconda3/lib/python3.8/site-packages (from keras) (5.3.1)\n",
      "Requirement already satisfied: h5py in /Users/adilbenmoussa/opt/anaconda3/lib/python3.8/site-packages (from keras) (2.10.0)\n",
      "Requirement already satisfied: six in /Users/adilbenmoussa/opt/anaconda3/lib/python3.8/site-packages (from h5py->keras) (1.15.0)\n",
      "Installing collected packages: keras\n",
      "Successfully installed keras-2.4.3\n"
     ]
    }
   ],
   "source": [
    "!pip install keras"
   ]
  },
  {
   "cell_type": "code",
   "execution_count": 6,
   "metadata": {},
   "outputs": [],
   "source": [
    "import tensorflow as tf\n",
    "from keras.preprocessing.image import ImageDataGenerator"
   ]
  },
  {
   "cell_type": "code",
   "execution_count": 7,
   "metadata": {},
   "outputs": [
    {
     "output_type": "execute_result",
     "data": {
      "text/plain": [
       "'2.4.0'"
      ]
     },
     "metadata": {},
     "execution_count": 7
    }
   ],
   "source": [
    "tf.__version__"
   ]
  },
  {
   "cell_type": "code",
   "execution_count": 10,
   "metadata": {},
   "outputs": [
    {
     "output_type": "stream",
     "name": "stdout",
     "text": [
      "Found 8000 images belonging to 2 classes.\nFound 2000 images belonging to 2 classes.\n"
     ]
    }
   ],
   "source": [
    "train_datagen = ImageDataGenerator(\n",
    "        rescale=1./255,\n",
    "        shear_range=0.2,\n",
    "        zoom_range=0.2,\n",
    "        horizontal_flip=True)\n",
    "\n",
    "training_set = train_datagen.flow_from_directory(\n",
    "'dataset/training_set',\n",
    "    target_size=(64, 64),\n",
    "    batch_size=32,\n",
    "    class_mode='binary')\n",
    "\n",
    "test_datagen = ImageDataGenerator(rescale=1./255)\n",
    "test_set = test_datagen.flow_from_directory(\n",
    "    'dataset/test_set',\n",
    "    target_size=(64, 64),\n",
    "    batch_size=32,\n",
    "    class_mode='binary')"
   ]
  },
  {
   "cell_type": "code",
   "execution_count": 26,
   "metadata": {},
   "outputs": [],
   "source": [
    "cnn = tf.keras.models.Sequential()"
   ]
  },
  {
   "cell_type": "code",
   "execution_count": 27,
   "metadata": {},
   "outputs": [],
   "source": [
    "# Covolution layer\n",
    "cnn.add(tf.keras.layers.Conv2D(filters= 32, kernel_size= 3, activation= 'relu', input_shape= [64, 64, 3]))"
   ]
  },
  {
   "cell_type": "code",
   "execution_count": 28,
   "metadata": {},
   "outputs": [],
   "source": [
    "#pooling -> pooled feature map\n",
    "cnn.add(tf.keras.layers.MaxPool2D(pool_size=2, strides=2))"
   ]
  },
  {
   "cell_type": "code",
   "execution_count": 29,
   "metadata": {},
   "outputs": [],
   "source": [
    "# second Covolution layer\n",
    "cnn.add(tf.keras.layers.Conv2D(filters= 32, kernel_size= 3, activation= 'relu'))\n",
    "cnn.add(tf.keras.layers.MaxPool2D(pool_size=2, strides=2))"
   ]
  },
  {
   "cell_type": "code",
   "execution_count": 30,
   "metadata": {},
   "outputs": [],
   "source": [
    "#Flattening\n",
    "cnn.add(tf.keras.layers.Flatten())\n"
   ]
  },
  {
   "cell_type": "code",
   "execution_count": 31,
   "metadata": {},
   "outputs": [],
   "source": [
    "# full connection layer (hidden)\n",
    "cnn.add(tf.keras.layers.Dense(units=128, activation='relu'))"
   ]
  },
  {
   "cell_type": "code",
   "execution_count": 32,
   "metadata": {},
   "outputs": [],
   "source": [
    "#output\n",
    "cnn.add(tf.keras.layers.Dense(units=1, activation='sigmoid'))"
   ]
  },
  {
   "cell_type": "code",
   "execution_count": 33,
   "metadata": {},
   "outputs": [],
   "source": [
    "cnn.compile(optimizer = 'adam', loss = 'binary_crossentropy', metrics = ['accuracy'])"
   ]
  },
  {
   "cell_type": "code",
   "execution_count": 34,
   "metadata": {},
   "outputs": [
    {
     "output_type": "stream",
     "name": "stdout",
     "text": [
      "Epoch 1/25\n",
      "250/250 [==============================] - 43s 171ms/step - loss: 0.6885 - accuracy: 0.5374 - val_loss: 0.6188 - val_accuracy: 0.6650\n",
      "Epoch 2/25\n",
      "250/250 [==============================] - 36s 144ms/step - loss: 0.6231 - accuracy: 0.6568 - val_loss: 0.5647 - val_accuracy: 0.7175\n",
      "Epoch 3/25\n",
      "250/250 [==============================] - 38s 154ms/step - loss: 0.5719 - accuracy: 0.6986 - val_loss: 0.5449 - val_accuracy: 0.7295\n",
      "Epoch 4/25\n",
      "250/250 [==============================] - 38s 153ms/step - loss: 0.5375 - accuracy: 0.7358 - val_loss: 0.5196 - val_accuracy: 0.7565\n",
      "Epoch 5/25\n",
      "250/250 [==============================] - 39s 155ms/step - loss: 0.5134 - accuracy: 0.7462 - val_loss: 0.5195 - val_accuracy: 0.7570\n",
      "Epoch 6/25\n",
      "250/250 [==============================] - 38s 153ms/step - loss: 0.5007 - accuracy: 0.7579 - val_loss: 0.5012 - val_accuracy: 0.7515\n",
      "Epoch 7/25\n",
      "250/250 [==============================] - 37s 149ms/step - loss: 0.4695 - accuracy: 0.7764 - val_loss: 0.5116 - val_accuracy: 0.7530\n",
      "Epoch 8/25\n",
      "250/250 [==============================] - 42s 167ms/step - loss: 0.4564 - accuracy: 0.7836 - val_loss: 0.4744 - val_accuracy: 0.7735\n",
      "Epoch 9/25\n",
      "250/250 [==============================] - 39s 158ms/step - loss: 0.4447 - accuracy: 0.7873 - val_loss: 0.4616 - val_accuracy: 0.7925\n",
      "Epoch 10/25\n",
      "250/250 [==============================] - 40s 161ms/step - loss: 0.4221 - accuracy: 0.8021 - val_loss: 0.4843 - val_accuracy: 0.7750\n",
      "Epoch 11/25\n",
      "250/250 [==============================] - 37s 149ms/step - loss: 0.4046 - accuracy: 0.8190 - val_loss: 0.4647 - val_accuracy: 0.7920\n",
      "Epoch 12/25\n",
      "250/250 [==============================] - 39s 156ms/step - loss: 0.3797 - accuracy: 0.8272 - val_loss: 0.4730 - val_accuracy: 0.7945\n",
      "Epoch 13/25\n",
      "250/250 [==============================] - 54s 217ms/step - loss: 0.3748 - accuracy: 0.8286 - val_loss: 0.5159 - val_accuracy: 0.7705\n",
      "Epoch 14/25\n",
      "250/250 [==============================] - 45s 178ms/step - loss: 0.3571 - accuracy: 0.8380 - val_loss: 0.5714 - val_accuracy: 0.7725\n",
      "Epoch 15/25\n",
      "250/250 [==============================] - 45s 182ms/step - loss: 0.3425 - accuracy: 0.8475 - val_loss: 0.6342 - val_accuracy: 0.7275\n",
      "Epoch 16/25\n",
      "250/250 [==============================] - 43s 174ms/step - loss: 0.3445 - accuracy: 0.8482 - val_loss: 0.5066 - val_accuracy: 0.7735\n",
      "Epoch 17/25\n",
      "250/250 [==============================] - 37s 148ms/step - loss: 0.3170 - accuracy: 0.8629 - val_loss: 0.5445 - val_accuracy: 0.7695\n",
      "Epoch 18/25\n",
      "250/250 [==============================] - 35s 140ms/step - loss: 0.2868 - accuracy: 0.8735 - val_loss: 0.4991 - val_accuracy: 0.7895\n",
      "Epoch 19/25\n",
      "250/250 [==============================] - 35s 141ms/step - loss: 0.2780 - accuracy: 0.8793 - val_loss: 0.5234 - val_accuracy: 0.7995\n",
      "Epoch 20/25\n",
      "250/250 [==============================] - 35s 140ms/step - loss: 0.2612 - accuracy: 0.8921 - val_loss: 0.5321 - val_accuracy: 0.7945\n",
      "Epoch 21/25\n",
      "250/250 [==============================] - 35s 140ms/step - loss: 0.2377 - accuracy: 0.9031 - val_loss: 0.5507 - val_accuracy: 0.7840\n",
      "Epoch 22/25\n",
      "250/250 [==============================] - 35s 139ms/step - loss: 0.2354 - accuracy: 0.9027 - val_loss: 0.5763 - val_accuracy: 0.7955\n",
      "Epoch 23/25\n",
      "250/250 [==============================] - 35s 142ms/step - loss: 0.2251 - accuracy: 0.9103 - val_loss: 0.5349 - val_accuracy: 0.7975\n",
      "Epoch 24/25\n",
      "250/250 [==============================] - 36s 142ms/step - loss: 0.2100 - accuracy: 0.9146 - val_loss: 0.6312 - val_accuracy: 0.7910\n",
      "Epoch 25/25\n",
      "250/250 [==============================] - 36s 142ms/step - loss: 0.2014 - accuracy: 0.9190 - val_loss: 0.5953 - val_accuracy: 0.7975\n"
     ]
    },
    {
     "output_type": "execute_result",
     "data": {
      "text/plain": [
       "<tensorflow.python.keras.callbacks.History at 0x7fc31b71ebb0>"
      ]
     },
     "metadata": {},
     "execution_count": 34
    }
   ],
   "source": [
    "cnn.fit(x= training_set, validation_data= test_set, epochs= 25)"
   ]
  },
  {
   "source": [
    "import numpy as np\n",
    "from keras.preprocessing import image\n",
    "test_image = image.load_img('dataset/single_prediction/3408.jpg', target_size= (64, 64))\n",
    "test_image = image.img_to_array(test_image)\n",
    "test_image = np.expand_dims(test_image, axis = 0)\n",
    "result = cnn.predict(test_image)\n",
    "# train_datagen.class_indices\n",
    "if result[0][0] == 1:\n",
    "    prediction = 'dog'\n",
    "else:\n",
    "    prediction = 'cat'\n",
    "\n",
    "print(prediction)"
   ],
   "cell_type": "code",
   "metadata": {},
   "execution_count": 38,
   "outputs": [
    {
     "output_type": "stream",
     "name": "stdout",
     "text": [
      "dog\n"
     ]
    }
   ]
  },
  {
   "cell_type": "code",
   "execution_count": null,
   "metadata": {},
   "outputs": [],
   "source": []
  }
 ]
}